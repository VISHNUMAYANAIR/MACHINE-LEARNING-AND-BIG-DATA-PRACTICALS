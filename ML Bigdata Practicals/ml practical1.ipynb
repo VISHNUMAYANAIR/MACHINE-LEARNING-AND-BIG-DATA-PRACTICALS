{
 "cells": [
  {
   "cell_type": "markdown",
   "id": "c3211800",
   "metadata": {},
   "source": [
    "# 1.Consider the following 200 points X=np.dot(rng.rand(2,2),rng.randn(2,200)).T and plot the data and using the PCA estimator reduce the 2-D data into 1-D.Then show the shape of the original data and the reduced data."
   ]
  },
  {
   "cell_type": "code",
   "execution_count": 2,
   "id": "cf49bd7f",
   "metadata": {},
   "outputs": [],
   "source": [
    "import numpy as np\n",
    "import pandas as pd\n",
    "import seaborn as sns"
   ]
  },
  {
   "cell_type": "code",
   "execution_count": 3,
   "id": "9d22ff70",
   "metadata": {},
   "outputs": [
    {
     "data": {
      "text/plain": [
       "array([[-6.25301618e-01, -1.70063657e-01],\n",
       "       [ 9.60695033e-01,  5.90900597e-01],\n",
       "       [-5.98543385e-01, -4.02593393e-01],\n",
       "       [-2.22805938e+00, -5.32576740e-01],\n",
       "       [-4.61430060e-01, -4.98867244e-01],\n",
       "       [-9.58929028e-01, -2.69331024e-01],\n",
       "       [-6.73079909e-01, -3.38308547e-01],\n",
       "       [ 1.30501861e+00,  5.91357846e-01],\n",
       "       [ 3.74545597e-01, -9.85442049e-02],\n",
       "       [-1.82628627e+00, -4.06170254e-01],\n",
       "       [ 6.68262284e-01,  3.36877396e-01],\n",
       "       [-5.82646676e-01, -1.77369217e-01],\n",
       "       [-4.18128976e-01, -3.73811389e-01],\n",
       "       [ 1.72209371e-01,  2.64668836e-01],\n",
       "       [ 3.77116687e-01,  1.88442969e-01],\n",
       "       [-6.79396230e-01, -1.31601978e-01],\n",
       "       [ 1.03148960e+00,  4.25550018e-01],\n",
       "       [ 3.36041799e-01,  3.90982721e-02],\n",
       "       [ 7.05745985e-01,  4.88730649e-01],\n",
       "       [ 8.39511547e-01,  1.52125872e-01],\n",
       "       [ 1.49882898e+00,  4.71380809e-01],\n",
       "       [ 2.88356638e-01,  3.31334714e-02],\n",
       "       [-5.02935011e-01, -3.68665426e-01],\n",
       "       [ 1.47921067e+00,  7.40445724e-01],\n",
       "       [-4.44382429e-01, -1.65019364e-01],\n",
       "       [-5.33464228e-01, -6.02221911e-02],\n",
       "       [-6.16229422e-01, -2.11783922e-01],\n",
       "       [ 7.46598965e-02, -6.14321077e-02],\n",
       "       [-1.13637011e-01,  7.32877678e-02],\n",
       "       [-2.00717298e-02,  6.09744586e-02],\n",
       "       [ 1.89582967e-01,  1.99769369e-01],\n",
       "       [ 9.38466103e-01,  5.41731132e-01],\n",
       "       [-3.66697989e-01, -3.64971376e-02],\n",
       "       [-8.93528486e-01, -3.72814013e-01],\n",
       "       [-1.31759571e+00, -3.57581073e-01],\n",
       "       [-3.81802782e-01, -2.01252465e-01],\n",
       "       [-5.13790216e-01, -5.05974086e-01],\n",
       "       [ 9.03737934e-01,  2.49518260e-01],\n",
       "       [-4.38875079e-01, -1.50648130e-01],\n",
       "       [-5.94170907e-01, -9.41224109e-02],\n",
       "       [-3.12943931e-01, -6.57312966e-04],\n",
       "       [-3.00229089e-01, -4.22050272e-01],\n",
       "       [-5.99239320e-01, -2.60398180e-01],\n",
       "       [ 2.20370036e-01,  2.03914415e-01],\n",
       "       [ 5.25164844e-01,  1.87026363e-01],\n",
       "       [ 5.56625011e-01, -1.33745094e-01],\n",
       "       [ 1.35428157e+00,  5.47397422e-01],\n",
       "       [-6.83159806e-01, -3.94693187e-01],\n",
       "       [-1.23325109e-01, -1.04266539e-01],\n",
       "       [-3.13175458e-01, -6.98306619e-02],\n",
       "       [-2.48838277e+00, -8.44571249e-01],\n",
       "       [ 1.24996586e+00,  5.85738115e-01],\n",
       "       [ 1.76764431e-01,  1.10730208e-01],\n",
       "       [-5.07808538e-01, -3.15746300e-01],\n",
       "       [ 1.82738502e+00,  6.20232502e-01],\n",
       "       [ 8.10156740e-01,  1.77171194e-01],\n",
       "       [ 4.28494398e-01,  1.29892407e-01],\n",
       "       [-6.81124709e-02, -1.83414149e-01],\n",
       "       [-2.38085712e-01,  3.20283053e-02],\n",
       "       [-5.76511311e-01, -4.61119558e-01],\n",
       "       [ 7.86579791e-01,  2.40420951e-01],\n",
       "       [-3.94028364e-01, -1.13238995e-01],\n",
       "       [ 3.00281016e-01,  4.05830103e-02],\n",
       "       [ 8.34354492e-01,  3.63411695e-01],\n",
       "       [ 6.77025394e-01,  8.62180588e-02],\n",
       "       [ 8.22858785e-01,  7.95262868e-02],\n",
       "       [ 1.11060226e+00,  8.38447209e-02],\n",
       "       [-1.11056320e+00, -2.21851614e-01],\n",
       "       [-3.25581172e-05,  2.52586287e-01],\n",
       "       [ 9.01346004e-01,  4.66550032e-01],\n",
       "       [ 6.13325282e-01,  2.29429972e-01],\n",
       "       [ 1.00280321e+00,  2.67636970e-01],\n",
       "       [-5.00300647e-01, -2.65194678e-01],\n",
       "       [-1.46839080e+00, -2.62591632e-01],\n",
       "       [-1.16559210e+00, -4.35658777e-01],\n",
       "       [ 1.23290571e+00,  3.72644940e-01],\n",
       "       [-8.71374166e-02, -7.68205362e-02],\n",
       "       [ 1.32611731e+00,  4.23305575e-01],\n",
       "       [-6.55945864e-01, -2.36422799e-01],\n",
       "       [-3.98868969e-01, -1.32296178e-01],\n",
       "       [ 1.46537233e-01,  2.88714500e-02],\n",
       "       [ 8.34743614e-01,  2.78631269e-01],\n",
       "       [ 1.26455201e-01,  1.83894435e-02],\n",
       "       [ 2.01707556e-01,  6.38435019e-02],\n",
       "       [-2.67775720e-01,  4.92011507e-03],\n",
       "       [ 2.85085062e-01,  5.36128031e-02],\n",
       "       [-7.53418549e-01, -3.37531319e-01],\n",
       "       [ 5.29313417e-01,  2.45960831e-02],\n",
       "       [ 3.65577719e-01, -5.62717811e-02],\n",
       "       [ 3.62822350e-02, -1.71587143e-02],\n",
       "       [ 1.98139998e-01,  1.48806454e-01],\n",
       "       [-7.56673772e-01, -2.05864228e-01],\n",
       "       [ 1.15733262e-01, -2.55010922e-02],\n",
       "       [-1.81944537e-01, -8.98933373e-02],\n",
       "       [ 1.57198306e-01,  1.26124661e-01],\n",
       "       [ 5.83470370e-01,  2.37266716e-01],\n",
       "       [-9.46770213e-01, -2.88927090e-01],\n",
       "       [ 7.13140353e-01,  1.77219645e-01],\n",
       "       [ 1.30157187e+00,  6.24502445e-01],\n",
       "       [-5.49063710e-01, -4.44638605e-01],\n",
       "       [-4.29728257e-01, -2.50941856e-01],\n",
       "       [-3.86766308e-01, -2.66159401e-01],\n",
       "       [-6.57643258e-01, -8.45055625e-02],\n",
       "       [ 1.23961415e+00,  4.90659512e-01],\n",
       "       [ 3.18446596e-01,  4.12165000e-03],\n",
       "       [-8.98118949e-01, -2.10137581e-01],\n",
       "       [ 3.36881319e-01,  1.87961004e-01],\n",
       "       [-4.18452911e-01, -1.81336717e-01],\n",
       "       [ 2.36601159e-01,  3.39487039e-01],\n",
       "       [ 3.51319728e-01,  9.23282159e-02],\n",
       "       [ 1.35323942e+00,  4.19970027e-01],\n",
       "       [-8.34819518e-01, -2.00044213e-01],\n",
       "       [ 2.32938600e+00,  9.16366922e-01],\n",
       "       [ 4.67174434e-02,  2.49148699e-01],\n",
       "       [ 4.55373238e-01,  1.97896476e-01],\n",
       "       [-7.10684919e-01, -1.56607387e-02],\n",
       "       [-5.50095165e-02, -2.19243382e-01],\n",
       "       [-4.54554511e-01, -2.62307969e-01],\n",
       "       [-1.08213611e-01, -4.11131904e-02],\n",
       "       [-8.97552407e-01, -2.41129284e-01],\n",
       "       [ 7.34802491e-01,  8.56077609e-02],\n",
       "       [ 2.25266501e-01, -2.49531175e-01],\n",
       "       [-3.27438240e-01,  1.87561024e-01],\n",
       "       [ 1.20422548e+00,  2.89208121e-01],\n",
       "       [ 1.70331974e-01, -2.13212414e-01],\n",
       "       [ 1.00007930e+00,  3.60626507e-01],\n",
       "       [-6.71516563e-01, -7.20747636e-02],\n",
       "       [ 1.19221616e+00,  3.49379904e-01],\n",
       "       [ 2.40174205e-01,  1.32451266e-01],\n",
       "       [ 5.56592389e-01,  3.39247336e-01],\n",
       "       [-1.23113909e+00, -3.01572247e-01],\n",
       "       [ 1.52659926e-01, -3.22243331e-02],\n",
       "       [ 1.37611796e+00,  4.38905019e-01],\n",
       "       [-7.05213114e-01, -1.86923986e-01],\n",
       "       [-1.25035415e+00, -6.15852747e-01],\n",
       "       [-1.87651011e+00, -5.87438869e-01],\n",
       "       [-1.47105690e+00, -7.57686938e-01],\n",
       "       [-1.50346447e+00, -6.39175291e-01],\n",
       "       [-3.74317472e-01, -1.24473266e-01],\n",
       "       [ 8.78524826e-01,  3.86529047e-01],\n",
       "       [ 4.37960653e-02, -1.33600937e-01],\n",
       "       [ 5.45982844e-01,  9.78986853e-02],\n",
       "       [ 1.41569127e-01, -3.31934527e-02],\n",
       "       [ 6.35824494e-02,  2.60037422e-03],\n",
       "       [-8.87046213e-02, -5.08430872e-02],\n",
       "       [ 1.32411808e-01, -5.25896645e-02],\n",
       "       [ 4.29143144e-01,  1.39451520e-01],\n",
       "       [-5.62450166e-01, -3.55459800e-01],\n",
       "       [ 5.98293829e-01,  3.05358879e-01],\n",
       "       [-3.52669474e-01,  2.77872905e-01],\n",
       "       [ 2.92708138e-01, -5.88533723e-02],\n",
       "       [ 1.49216325e+00,  2.43746801e-01],\n",
       "       [-3.21136884e-01, -2.11988784e-01],\n",
       "       [-4.28741839e-01, -1.62431474e-01],\n",
       "       [ 5.56602182e-02,  4.72280460e-02],\n",
       "       [-1.86669080e-01, -5.75236287e-02],\n",
       "       [-3.15976890e-01, -1.35666133e-01],\n",
       "       [-9.52287292e-01, -2.03431276e-01],\n",
       "       [-6.17216871e-01, -1.68607956e-01],\n",
       "       [ 2.60724124e-01,  2.83827268e-01],\n",
       "       [-1.29606872e+00, -5.87501508e-01],\n",
       "       [ 1.30204436e-01,  1.06536600e-01],\n",
       "       [ 3.62026915e-02, -7.14259522e-02],\n",
       "       [ 4.51406829e-01,  2.20021746e-01],\n",
       "       [ 7.82343617e-01,  1.55836343e-01],\n",
       "       [-1.91527940e+00, -8.41226381e-01],\n",
       "       [ 1.33470527e+00,  1.77008275e-01],\n",
       "       [-5.57241554e-01,  9.78217703e-02],\n",
       "       [-2.54030157e-01,  6.53585666e-03],\n",
       "       [ 3.83426415e-02, -1.41592253e-01],\n",
       "       [ 1.66900682e+00,  2.58263884e-01],\n",
       "       [-4.01201302e-01, -1.24900651e-01],\n",
       "       [ 1.33980298e+00,  5.54699895e-01],\n",
       "       [ 3.12160775e-01,  1.70605436e-01],\n",
       "       [ 2.09517683e+00,  6.46487345e-01],\n",
       "       [-6.85653080e-01, -2.37525375e-01],\n",
       "       [-9.81232159e-01, -5.30795733e-01],\n",
       "       [ 3.81516151e-01,  2.16067601e-01],\n",
       "       [ 8.35386181e-02,  2.57654664e-01],\n",
       "       [ 1.56227043e-01,  1.07263711e-02],\n",
       "       [-8.98591326e-01, -4.65169769e-01],\n",
       "       [ 2.16673778e-01, -1.35265391e-01],\n",
       "       [ 3.99091276e-01,  1.86824524e-01],\n",
       "       [-3.90120284e-01, -5.57531130e-02],\n",
       "       [ 1.51136791e-01, -3.50017338e-02],\n",
       "       [-2.59947279e-02, -5.30194271e-02],\n",
       "       [-5.55678088e-01, -2.82320719e-01],\n",
       "       [-4.14437203e-01, -1.61157769e-01],\n",
       "       [-5.43696094e-01, -4.31161457e-01],\n",
       "       [ 1.42759145e+00,  5.34554140e-01],\n",
       "       [ 4.51861867e-01, -1.43502859e-01],\n",
       "       [ 8.07369404e-01,  1.44524192e-01],\n",
       "       [-4.61251208e-01, -3.08874028e-01],\n",
       "       [-1.06359448e-01,  2.40025629e-01],\n",
       "       [-1.09810334e+00, -5.66248687e-01],\n",
       "       [ 8.38408546e-01,  2.78380007e-01],\n",
       "       [ 3.12708310e-01, -1.06001233e-02],\n",
       "       [ 1.95587585e+00,  6.38224114e-01],\n",
       "       [-1.10830352e+00, -3.95053658e-01],\n",
       "       [ 3.98647206e-01,  2.31865526e-02]])"
      ]
     },
     "execution_count": 3,
     "metadata": {},
     "output_type": "execute_result"
    }
   ],
   "source": [
    "rng=np.random.RandomState(1)\n",
    "X=np.dot(rng.rand(2,2),rng.randn(2,200)).T\n",
    "X"
   ]
  },
  {
   "cell_type": "code",
   "execution_count": 4,
   "id": "217603d9",
   "metadata": {},
   "outputs": [
    {
     "data": {
      "text/plain": [
       "(200, 2)"
      ]
     },
     "execution_count": 4,
     "metadata": {},
     "output_type": "execute_result"
    }
   ],
   "source": [
    "A=pd.DataFrame(X,columns=['x','y'])\n",
    "A.head()\n",
    "A.shape"
   ]
  },
  {
   "cell_type": "code",
   "execution_count": 5,
   "id": "2dee516b",
   "metadata": {},
   "outputs": [
    {
     "data": {
      "text/plain": [
       "<seaborn.axisgrid.FacetGrid at 0x1b1513a26a0>"
      ]
     },
     "execution_count": 5,
     "metadata": {},
     "output_type": "execute_result"
    },
    {
     "data": {
      "image/png": "[encoded data removed]",
      "text/plain": [
       "<Figure size 360x360 with 1 Axes>"
      ]
     },
     "metadata": {},
     "output_type": "display_data"
    }
   ],
   "source": [
    "sns.set()\n",
    "sns.lmplot(x=\"x\",y=\"y\",data=A,fit_reg=True)"
   ]
  },
  {
   "cell_type": "code",
   "execution_count": 6,
   "id": "4976330e",
   "metadata": {},
   "outputs": [
    {
     "data": {
      "text/plain": [
       "PCA(n_components=1)"
      ]
     },
     "execution_count": 6,
     "metadata": {},
     "output_type": "execute_result"
    }
   ],
   "source": [
    "from sklearn.decomposition import PCA\n",
    "model=PCA(n_components=1)\n",
    "model"
   ]
  },
  {
   "cell_type": "code",
   "execution_count": 7,
   "id": "c01d63aa",
   "metadata": {},
   "outputs": [
    {
     "data": {
      "text/plain": [
       "PCA(n_components=1)"
      ]
     },
     "execution_count": 7,
     "metadata": {},
     "output_type": "execute_result"
    }
   ],
   "source": [
    "model.fit(A)\n"
   ]
  },
  {
   "cell_type": "code",
   "execution_count": 8,
   "id": "3473fb18",
   "metadata": {},
   "outputs": [
    {
     "data": {
      "text/plain": [
       "array([[ 6.76769235e-01],\n",
       "       [-1.07121393e+00],\n",
       "       [ 7.27912364e-01],\n",
       "       [ 2.30964136e+00],\n",
       "       [ 6.30052323e-01],\n",
       "       [ 1.02448887e+00],\n",
       "       [ 7.77183507e-01],\n",
       "       [-1.39656414e+00],\n",
       "       [-2.91049874e-01],\n",
       "       [ 1.88864221e+00],\n",
       "       [-7.11544293e-01],\n",
       "       [ 6.38884130e-01],\n",
       "       [ 5.48059617e-01],\n",
       "       [-2.19312436e-01],\n",
       "       [-3.87789490e-01],\n",
       "       [ 7.15219956e-01],\n",
       "       [-1.08373816e+00],\n",
       "       [-2.99917403e-01],\n",
       "       [-7.96849021e-01],\n",
       "       [-8.12568346e-01],\n",
       "       [-1.54018281e+00],\n",
       "       [-2.52920476e-01],\n",
       "       [ 6.26464454e-01],\n",
       "       [-1.61007571e+00],\n",
       "       [ 5.04240563e-01],\n",
       "       [ 5.53935753e-01],\n",
       "       [ 6.81911252e-01],\n",
       "       [-2.00157228e-02],\n",
       "       [ 1.13550833e-01],\n",
       "       [ 2.92286085e-02],\n",
       "       [-2.14393483e-01],\n",
       "       [-1.03406124e+00],\n",
       "       [ 3.88635004e-01],\n",
       "       [ 9.96727811e-01],\n",
       "       [ 1.39223653e+00],\n",
       "       [ 4.57043694e-01],\n",
       "       [ 6.81839901e-01],\n",
       "       [-9.05233246e-01],\n",
       "       [ 4.94316334e-01],\n",
       "       [ 6.22411280e-01],\n",
       "       [ 3.26088548e-01],\n",
       "       [ 4.52560386e-01],\n",
       "       [ 6.81840663e-01],\n",
       "       [-2.44832816e-01],\n",
       "       [-5.27149562e-01],\n",
       "       [-4.51448737e-01],\n",
       "       [-1.42864453e+00],\n",
       "       [ 8.05233004e-01],\n",
       "       [ 1.81049742e-01],\n",
       "       [ 3.49039347e-01],\n",
       "       [ 2.65803583e+00],\n",
       "       [-1.34272221e+00],\n",
       "       [-1.73026340e-01],\n",
       "       [ 6.13676729e-01],\n",
       "       [-1.89940741e+00],\n",
       "       [-7.93074429e-01],\n",
       "       [-4.17072486e-01],\n",
       "       [ 1.54913526e-01],\n",
       "       [ 2.44646603e-01],\n",
       "       [ 7.26337140e-01],\n",
       "       [-7.91592424e-01],\n",
       "       [ 4.39666794e-01],\n",
       "       [-2.66630687e-01],\n",
       "       [-8.77131636e-01],\n",
       "       [-6.37447634e-01],\n",
       "       [-7.72982393e-01],\n",
       "       [-1.04616382e+00],\n",
       "       [ 1.15209837e+00],\n",
       "       [-5.26661400e-02],\n",
       "       [-9.74296354e-01],\n",
       "       [-6.24348505e-01],\n",
       "       [-1.00475074e+00],\n",
       "       [ 5.89973268e-01],\n",
       "       [ 1.50344054e+00],\n",
       "       [ 1.27433349e+00],\n",
       "       [-1.25658172e+00],\n",
       "       [ 1.37852445e-01],\n",
       "       [-1.36126475e+00],\n",
       "       [ 7.27518820e-01],\n",
       "       [ 4.50501231e-01],\n",
       "       [-1.17577071e-01],\n",
       "       [-8.49638130e-01],\n",
       "       [-9.51657336e-02],\n",
       "       [-1.81175961e-01],\n",
       "       [ 2.81596080e-01],\n",
       "       [-2.56560634e-01],\n",
       "       [ 8.52804745e-01],\n",
       "       [-4.77688980e-01],\n",
       "       [-2.96471868e-01],\n",
       "       [ 1.68108524e-03],\n",
       "       [-2.05727542e-01],\n",
       "       [ 8.12610001e-01],\n",
       "       [-7.06157363e-02],\n",
       "       [ 2.31690062e-01],\n",
       "       [-1.59605923e-01],\n",
       "       [-5.98727081e-01],\n",
       "       [ 1.01944512e+00],\n",
       "       [-7.01462226e-01],\n",
       "       [-1.40420099e+00],\n",
       "       [ 6.94997907e-01],\n",
       "       [ 5.18636606e-01],\n",
       "       [ 4.83061626e-01],\n",
       "       [ 6.79198052e-01],\n",
       "       [-1.30170017e+00],\n",
       "       [-2.71805220e-01],\n",
       "       [ 9.47603686e-01],\n",
       "       [-3.49630397e-01],\n",
       "       [ 4.85113462e-01],\n",
       "       [-3.04715098e-01],\n",
       "       [-3.31839520e-01],\n",
       "       [-1.38578436e+00],\n",
       "       [ 8.84502948e-01],\n",
       "       [-2.47084475e+00],\n",
       "       [-9.56899804e-02],\n",
       "       [-4.64806358e-01],\n",
       "       [ 7.06669625e-01],\n",
       "       [ 1.54312708e-01],\n",
       "       [ 5.45819213e-01],\n",
       "       [ 1.46023727e-01],\n",
       "       [ 9.57253276e-01],\n",
       "       [-6.91815248e-01],\n",
       "       [-1.00443516e-01],\n",
       "       [ 2.77924488e-01],\n",
       "       [-1.20207491e+00],\n",
       "       [-6.04953108e-02],\n",
       "       [-1.03273685e+00],\n",
       "       [ 6.88215760e-01],\n",
       "       [-1.21050656e+00],\n",
       "       [-2.40052449e-01],\n",
       "       [-6.06855334e-01],\n",
       "       [ 1.29217575e+00],\n",
       "       [-1.03282074e-01],\n",
       "       [-1.41361475e+00],\n",
       "       [ 7.57783205e-01],\n",
       "       [ 1.41360423e+00],\n",
       "       [ 1.99564613e+00],\n",
       "       [ 1.66865955e+00],\n",
       "       [ 1.66032125e+00],\n",
       "       [ 4.24742508e-01],\n",
       "       [-9.26445715e-01],\n",
       "       [ 3.28504629e-02],\n",
       "       [-5.17521702e-01],\n",
       "       [-9.24887775e-02],\n",
       "       [-3.05962249e-02],\n",
       "       [ 1.30795754e-01],\n",
       "       [-7.74659629e-02],\n",
       "       [-4.20826569e-01],\n",
       "       [ 6.78334448e-01],\n",
       "       [-6.35104074e-01],\n",
       "       [ 2.72075594e-01],\n",
       "       [-2.26801066e-01],\n",
       "       [-1.45908094e+00],\n",
       "       [ 4.03275391e-01],\n",
       "       [ 4.88618199e-01],\n",
       "       [-3.77797862e-02],\n",
       "       [ 2.25514691e-01],\n",
       "       [ 3.73320407e-01],\n",
       "       [ 9.96559672e-01],\n",
       "       [ 6.68655132e-01],\n",
       "       [-3.09207055e-01],\n",
       "       [ 1.44746288e+00],\n",
       "       [-1.27674147e-01],\n",
       "       [ 1.95898129e-02],\n",
       "       [-4.68331172e-01],\n",
       "       [-7.59794861e-01],\n",
       "       [ 2.11566325e+00],\n",
       "       [-1.28843614e+00],\n",
       "       [ 5.24455206e-01],\n",
       "       [ 2.68082969e-01],\n",
       "       [ 4.06271559e-02],\n",
       "       [-1.63087335e+00],\n",
       "       [ 4.50273668e-01],\n",
       "       [-1.41736985e+00],\n",
       "       [-3.20579341e-01],\n",
       "       [-2.16095416e+00],\n",
       "       [ 7.55938440e-01],\n",
       "       [ 1.13147728e+00],\n",
       "       [-4.01022769e-01],\n",
       "       [-1.33261395e-01],\n",
       "       [-1.20765775e-01],\n",
       "       [ 1.03185993e+00],\n",
       "       [-1.29878689e-01],\n",
       "       [-4.08011754e-01],\n",
       "       [ 4.17084437e-01],\n",
       "       [-1.00930809e-01],\n",
       "       [ 7.22839507e-02],\n",
       "       [ 6.47903117e-01],\n",
       "       [ 4.74689466e-01],\n",
       "       [ 6.85499472e-01],\n",
       "       [-1.49366216e+00],\n",
       "       [-3.49297457e-01],\n",
       "       [-7.79713261e-01],\n",
       "       [ 5.67446775e-01],\n",
       "       [ 5.18831382e-02],\n",
       "       [ 1.25350822e+00],\n",
       "       [-8.53016941e-01],\n",
       "       [-2.61547685e-01],\n",
       "       [-2.02667441e+00],\n",
       "       [ 1.20688282e+00],\n",
       "       [-3.53816725e-01]])"
      ]
     },
     "execution_count": 8,
     "metadata": {},
     "output_type": "execute_result"
    }
   ],
   "source": [
    "A_1D=model.transform(A)\n",
    "A_1D"
   ]
  },
  {
   "cell_type": "code",
   "execution_count": 9,
   "id": "9e5482ff",
   "metadata": {},
   "outputs": [
    {
     "data": {
      "text/html": [
       "<div>\n",
       "<style scoped>\n",
       "    .dataframe tbody tr th:only-of-type {\n",
       "        vertical-align: middle;\n",
       "    }\n",
       "\n",
       "    .dataframe tbody tr th {\n",
       "        vertical-align: top;\n",
       "    }\n",
       "\n",
       "    .dataframe thead th {\n",
       "        text-align: right;\n",
       "    }\n",
       "</style>\n",
       "<table border=\"1\" class=\"dataframe\">\n",
       "  <thead>\n",
       "    <tr style=\"text-align: right;\">\n",
       "      <th></th>\n",
       "      <th>x</th>\n",
       "      <th>y</th>\n",
       "      <th>PCA1</th>\n",
       "    </tr>\n",
       "  </thead>\n",
       "  <tbody>\n",
       "    <tr>\n",
       "      <th>0</th>\n",
       "      <td>-0.625302</td>\n",
       "      <td>-0.170064</td>\n",
       "      <td>0.676769</td>\n",
       "    </tr>\n",
       "    <tr>\n",
       "      <th>1</th>\n",
       "      <td>0.960695</td>\n",
       "      <td>0.590901</td>\n",
       "      <td>-1.071214</td>\n",
       "    </tr>\n",
       "    <tr>\n",
       "      <th>2</th>\n",
       "      <td>-0.598543</td>\n",
       "      <td>-0.402593</td>\n",
       "      <td>0.727912</td>\n",
       "    </tr>\n",
       "    <tr>\n",
       "      <th>3</th>\n",
       "      <td>-2.228059</td>\n",
       "      <td>-0.532577</td>\n",
       "      <td>2.309641</td>\n",
       "    </tr>\n",
       "    <tr>\n",
       "      <th>4</th>\n",
       "      <td>-0.461430</td>\n",
       "      <td>-0.498867</td>\n",
       "      <td>0.630052</td>\n",
       "    </tr>\n",
       "    <tr>\n",
       "      <th>...</th>\n",
       "      <td>...</td>\n",
       "      <td>...</td>\n",
       "      <td>...</td>\n",
       "    </tr>\n",
       "    <tr>\n",
       "      <th>195</th>\n",
       "      <td>0.838409</td>\n",
       "      <td>0.278380</td>\n",
       "      <td>-0.853017</td>\n",
       "    </tr>\n",
       "    <tr>\n",
       "      <th>196</th>\n",
       "      <td>0.312708</td>\n",
       "      <td>-0.010600</td>\n",
       "      <td>-0.261548</td>\n",
       "    </tr>\n",
       "    <tr>\n",
       "      <th>197</th>\n",
       "      <td>1.955876</td>\n",
       "      <td>0.638224</td>\n",
       "      <td>-2.026674</td>\n",
       "    </tr>\n",
       "    <tr>\n",
       "      <th>198</th>\n",
       "      <td>-1.108304</td>\n",
       "      <td>-0.395054</td>\n",
       "      <td>1.206883</td>\n",
       "    </tr>\n",
       "    <tr>\n",
       "      <th>199</th>\n",
       "      <td>0.398647</td>\n",
       "      <td>0.023187</td>\n",
       "      <td>-0.353817</td>\n",
       "    </tr>\n",
       "  </tbody>\n",
       "</table>\n",
       "<p>200 rows × 3 columns</p>\n",
       "</div>"
      ],
      "text/plain": [
       "            x         y      PCA1\n",
       "0   -0.625302 -0.170064  0.676769\n",
       "1    0.960695  0.590901 -1.071214\n",
       "2   -0.598543 -0.402593  0.727912\n",
       "3   -2.228059 -0.532577  2.309641\n",
       "4   -0.461430 -0.498867  0.630052\n",
       "..        ...       ...       ...\n",
       "195  0.838409  0.278380 -0.853017\n",
       "196  0.312708 -0.010600 -0.261548\n",
       "197  1.955876  0.638224 -2.026674\n",
       "198 -1.108304 -0.395054  1.206883\n",
       "199  0.398647  0.023187 -0.353817\n",
       "\n",
       "[200 rows x 3 columns]"
      ]
     },
     "execution_count": 9,
     "metadata": {},
     "output_type": "execute_result"
    }
   ],
   "source": [
    "A['PCA1']=A_1D[:,0]\n",
    "A"
   ]
  },
  {
   "cell_type": "code",
   "execution_count": 10,
   "id": "eea5957f",
   "metadata": {},
   "outputs": [
    {
     "name": "stdout",
     "output_type": "stream",
     "text": [
      "(200, 3)\n"
     ]
    }
   ],
   "source": [
    "print(A.shape)"
   ]
  },
  {
   "cell_type": "code",
   "execution_count": 11,
   "id": "ee6e3992",
   "metadata": {},
   "outputs": [
    {
     "data": {
      "text/plain": [
       "<seaborn.axisgrid.FacetGrid at 0x1b152184ac0>"
      ]
     },
     "execution_count": 11,
     "metadata": {},
     "output_type": "execute_result"
    },
    {
     "data": {
      "image/png": "[encoded data removed]",
      "text/plain": [
       "<Figure size 360x360 with 1 Axes>"
      ]
     },
     "metadata": {},
     "output_type": "display_data"
    }
   ],
   "source": [
    "sns.set()\n",
    "sns.lmplot(x=\"PCA1\",y=\"y\",data=A,fit_reg=True)"
   ]
  },
  {
   "cell_type": "code",
   "execution_count": 12,
   "id": "af0f6364",
   "metadata": {},
   "outputs": [
    {
     "data": {
      "text/plain": [
       "array([0.7625315])"
      ]
     },
     "execution_count": 12,
     "metadata": {},
     "output_type": "execute_result"
    }
   ],
   "source": [
    "model.explained_variance_"
   ]
  },
  {
   "cell_type": "code",
   "execution_count": 13,
   "id": "86d8eaa1",
   "metadata": {},
   "outputs": [
    {
     "data": {
      "text/plain": [
       "array([[-0.94446029, -0.32862557]])"
      ]
     },
     "execution_count": 13,
     "metadata": {},
     "output_type": "execute_result"
    }
   ],
   "source": [
    "model.components_"
   ]
  },
  {
   "cell_type": "code",
   "execution_count": 14,
   "id": "e644818d",
   "metadata": {},
   "outputs": [
    {
     "data": {
      "text/plain": [
       "(200, 1)"
      ]
     },
     "execution_count": 14,
     "metadata": {},
     "output_type": "execute_result"
    }
   ],
   "source": [
    "A_1D.shape"
   ]
  },
  {
   "cell_type": "code",
   "execution_count": null,
   "id": "cb313cbb",
   "metadata": {},
   "outputs": [],
   "source": []
  }
 ],
 "metadata": {
  "kernelspec": {
   "display_name": "Python 3 (ipykernel)",
   "language": "python",
   "name": "python3"
  },
  "language_info": {
   "codemirror_mode": {
    "name": "ipython",
    "version": 3
   },
   "file_extension": ".py",
   "mimetype": "text/x-python",
   "name": "python",
   "nbconvert_exporter": "python",
   "pygments_lexer": "ipython3",
   "version": "3.9.7"
  }
 },
 "nbformat": 4,
 "nbformat_minor": 5
}
